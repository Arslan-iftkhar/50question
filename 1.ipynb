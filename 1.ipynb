{
 "cells": [
  {
   "cell_type": "code",
   "execution_count": null,
   "id": "c4ba1993-bf60-4a72-a463-fa630269d91a",
   "metadata": {},
   "outputs": [],
   "source": [
    "def is_prime(num):\n",
    "    try:\n",
    "        \n",
    "    \n",
    "         num=int(input(\"enter the number\"))\n",
    "         for i in range(2,int((num)**0.5)):\n",
    "            if num%i==0:\n",
    "                print(\"not prime\")\n",
    "            break\n",
    "         else:\n",
    "              print(\"prime\")\n",
    "         \n",
    "    except Exception as e:\n",
    "        print(\"enter only numbers to check prime\")\n",
    "\n",
    "\n",
    "\n",
    "\n",
    "is_prime(num)"
   ]
  }
 ],
 "metadata": {
  "kernelspec": {
   "display_name": "Python 3 (ipykernel)",
   "language": "python",
   "name": "python3"
  },
  "language_info": {
   "codemirror_mode": {
    "name": "ipython",
    "version": 3
   },
   "file_extension": ".py",
   "mimetype": "text/x-python",
   "name": "python",
   "nbconvert_exporter": "python",
   "pygments_lexer": "ipython3",
   "version": "3.12.4"
  }
 },
 "nbformat": 4,
 "nbformat_minor": 5
}
